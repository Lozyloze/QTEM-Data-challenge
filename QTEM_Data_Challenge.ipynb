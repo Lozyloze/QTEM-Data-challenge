{
 "cells":[
  {
   "cell_type":"markdown",
   "source":[
    "# **This is the collaborative code for the group project QTEM Data Challenge**"
   ],
   "attachments":{
    
   },
   "metadata":{
    "datalore":{
     "node_id":"hcXFtCPkDqoxd6Hwrjx1ME",
     "type":"MD",
     "hide_input_from_viewers":false,
     "hide_output_from_viewers":false
    }
   }
  },
  {
   "cell_type":"markdown",
   "source":[
    "###  Before editing or contributing to this code, you should create a side notebook where you can test your ideas\n",
    "You can do so by cloning this notebook under another name\n",
    "\n",
    "Here is a link to an introduction to datalore: \n",
    "\n",
    "https:\/\/blog.jetbrains.com\/datalore\/2021\/02\/03\/10-tips-for-working-with-data-in-datalore\/\n",
    "\n",
    "Also, when adding a cell, make sure you comment and put a title on what you are doing so we can keep track of all steps\n",
    "\n",
    "Have FUN!!!"
   ],
   "attachments":{
    
   },
   "metadata":{
    "datalore":{
     "node_id":"RBcxvzmNL2UKbfeFkW7aV7",
     "type":"MD",
     "hide_input_from_viewers":false,
     "hide_output_from_viewers":false
    }
   }
  },
  {
   "cell_type":"markdown",
   "source":[
    "#                       **Code**"
   ],
   "attachments":{
    
   },
   "metadata":{
    "datalore":{
     "node_id":"G7Y7DrEEjsAWYQFWSmZEkO",
     "type":"MD",
     "hide_input_from_viewers":false,
     "hide_output_from_viewers":false
    }
   }
  },
  {
   "cell_type":"markdown",
   "source":[
    "## Install and import packages"
   ],
   "attachments":{
    
   },
   "metadata":{
    "datalore":{
     "node_id":"Hy5AE4C3yU1sHWUkVI4sTk",
     "type":"MD",
     "hide_input_from_viewers":false,
     "hide_output_from_viewers":false
    }
   }
  },
  {
   "cell_type":"code",
   "source":[
    "import pandas as pd\n",
    "import numpy as np\n",
    "import matplotlib.pyplot as plt\n",
    "from pandas_profiling import ProfileReport\n",
    "# it seems that profiling needs an install before being called here\n",
    "# To install, press environment icon on left pane, then explore, then search pandas-profiling"
   ],
   "execution_count":5,
   "outputs":[
    
   ],
   "metadata":{
    "datalore":{
     "node_id":"l0VMpiYvVHyQGAl5HB81ey",
     "type":"CODE",
     "hide_input_from_viewers":false,
     "hide_output_from_viewers":false
    }
   }
  },
  {
   "cell_type":"markdown",
   "source":[
    "## Importing data and defining datasets"
   ],
   "attachments":{
    
   },
   "metadata":{
    "datalore":{
     "node_id":"vxjFia3zrHzPmN8t1uzcnR",
     "type":"MD",
     "hide_input_from_viewers":false,
     "hide_output_from_viewers":false
    }
   }
  },
  {
   "cell_type":"code",
   "source":[
    "df_Calls = pd.read_csv(\"b. CARTIER_CALLS.csv\")\n",
    "df_Clienteling = pd.read_csv(\"c. CARTIER_CLIENTELING.csv\")\n",
    "df_Livechat = pd.read_csv(\"d. CARTIER_LIVECHAT.csv\")\n",
    "df_Prevsales = pd.read_csv(\"e. CARTIER_PREVIOUS_SALES.csv\")\n",
    "df_Sales = pd.read_csv(\"f. CARTIER_SALES.csv\")\n",
    "df_Wishlist = pd.read_csv(\"g. CARTIER_WISHLIST.csv\")\n",
    "\n",
    "# Merged sales and previous sales dataset with extra column []\n",
    "\n",
    "df_AllSales = pd.read_csv(\"Allsales.csv\")\n",
    "\n",
    "# Define a sample dataset to work with for speed purposes if necessary (10% of size)\n",
    "\n",
    "#df_AllSalesSample = df_AllSales.head(int(round((len(df_allsales)\/(10)),0)))"
   ],
   "execution_count":null,
   "outputs":[
    
   ],
   "metadata":{
    "datalore":{
     "node_id":"nyn7xcYNXoOQngwGrnjdPo",
     "type":"CODE",
     "hide_input_from_viewers":false,
     "hide_output_from_viewers":false
    }
   }
  },
  {
   "cell_type":"markdown",
   "source":[
    "## Quick look at our columns"
   ],
   "attachments":{
    
   },
   "metadata":{
    "datalore":{
     "node_id":"dUPRadFx3IO8tnqSVXv2MQ",
     "type":"MD",
     "hide_input_from_viewers":false,
     "hide_output_from_viewers":false
    }
   }
  },
  {
   "cell_type":"code",
   "source":[
    "# To see the columns we have \n",
    "\n",
    "print(list(df_AllSales))\n",
    "#print(list(anything else you want to see))"
   ],
   "execution_count":null,
   "outputs":[
    
   ],
   "metadata":{
    "datalore":{
     "node_id":"I6Ly9SvBZdU7pyUvUZWWh9",
     "type":"CODE",
     "hide_input_from_viewers":false,
     "hide_output_from_viewers":false
    }
   }
  },
  {
   "cell_type":"markdown",
   "source":[
    "## Generating the report"
   ],
   "attachments":{
    
   },
   "metadata":{
    "datalore":{
     "node_id":"MRlVkGJQ5qogO55sBV5NCR",
     "type":"MD",
     "hide_input_from_viewers":false,
     "hide_output_from_viewers":false
    }
   }
  },
  {
   "cell_type":"code",
   "source":[
    "### We can generate a profile to obtain description of our datasets\n",
    "### This can take some time if running report on large datasets\n",
    "### We can run the report on our sample dataset\n",
    "\n",
    "# Profile for Sales Sample\n",
    "\n",
    "#Profile_AllSalesSample = ProfileReport(df_Allsales, title=\"Pandas Profiling Report Sales\")\n",
    "\n",
    "# Visualizing the report\n",
    "\n",
    "#Report to iframe (will open report in notebook)\n",
    "\n",
    "#Profile_AllSalesSample.to_notebook_iframe()\n",
    "\n",
    "## Report to HTML (Will open up a new tab)\n",
    "#Profile_AllSalesSample.to_file(output_file='All Sales Sample report')"
   ],
   "execution_count":null,
   "outputs":[
    
   ],
   "metadata":{
    "datalore":{
     "node_id":"7EUPdfz7NnQkQo0TdeDHZ8",
     "type":"CODE",
     "hide_input_from_viewers":false,
     "hide_output_from_viewers":false
    }
   }
  }
 ],
 "metadata":{
  "kernelspec":{
   "display_name":"Python",
   "language":"python",
   "name":"python"
  },
  "datalore":{
   "version":1,
   "computation_mode":"JUPYTER",
   "package_manager":"pip",
   "base_environment":"default",
   "packages":[
    {
     "name":"pandas-profiling",
     "version":"3.2.0",
     "source":"PIP"
    }
   ]
  }
 },
 "nbformat":4,
 "nbformat_minor":4
}