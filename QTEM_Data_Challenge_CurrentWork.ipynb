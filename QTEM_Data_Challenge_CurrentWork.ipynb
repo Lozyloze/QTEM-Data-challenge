{
 "cells": [
  {
   "cell_type": "markdown",
   "metadata": {
    "datalore": {
     "hide_input_from_viewers": false,
     "hide_output_from_viewers": false,
     "node_id": "hcXFtCPkDqoxd6Hwrjx1ME",
     "type": "MD"
    }
   },
   "source": [
    "# **This is the collaborative code for the group project QTEM Data Challenge**"
   ]
  },
  {
   "cell_type": "markdown",
   "metadata": {
    "datalore": {
     "hide_input_from_viewers": false,
     "hide_output_from_viewers": false,
     "node_id": "RBcxvzmNL2UKbfeFkW7aV7",
     "type": "MD"
    }
   },
   "source": [
    "###  Before editing or contributing to this code, you should create a side notebook where you can test your ideas\n",
    "You can do so by cloning this notebook under another name\n",
    "\n",
    "Here is a link to an introduction to datalore: \n",
    "\n",
    "https://blog.jetbrains.com/datalore/2021/02/03/10-tips-for-working-with-data-in-datalore/\n",
    "\n",
    "Also, when adding a cell, make sure you comment and put a title on what you are doing so we can keep track of all steps\n",
    "\n",
    "Have FUN!!!"
   ]
  },
  {
   "cell_type": "markdown",
   "metadata": {
    "datalore": {
     "hide_input_from_viewers": false,
     "hide_output_from_viewers": false,
     "node_id": "Hy5AE4C3yU1sHWUkVI4sTk",
     "type": "MD"
    }
   },
   "source": [
    "## 1. Install and import packages"
   ]
  },
  {
   "cell_type": "code",
   "execution_count": 1,
   "metadata": {
    "datalore": {
     "hide_input_from_viewers": false,
     "hide_output_from_viewers": false,
     "node_id": "l0VMpiYvVHyQGAl5HB81ey",
     "type": "CODE"
    }
   },
   "outputs": [],
   "source": [
    "import pandas as pd\n",
    "import numpy as np\n",
    "import matplotlib.pyplot as plt\n",
    "from pandas_profiling import ProfileReport"
   ]
  },
  {
   "cell_type": "markdown",
   "metadata": {
    "datalore": {
     "hide_input_from_viewers": false,
     "hide_output_from_viewers": false,
     "node_id": "vxjFia3zrHzPmN8t1uzcnR",
     "type": "MD"
    }
   },
   "source": [
    "## 2. Importing data and defining datasets"
   ]
  },
  {
   "cell_type": "code",
   "execution_count": 2,
   "metadata": {
    "datalore": {
     "hide_input_from_viewers": false,
     "hide_output_from_viewers": false,
     "node_id": "nyn7xcYNXoOQngwGrnjdPo",
     "type": "CODE"
    }
   },
   "outputs": [],
   "source": [
    "df_Calls = pd.read_csv(\"b. CARTIER_CALLS.csv\")\n",
    "df_Clienteling = pd.read_csv(\"c. CARTIER_CLIENTELING.csv\")\n",
    "df_Livechat = pd.read_csv(\"d. CARTIER_LIVECHAT.csv\")\n",
    "df_PrevSales = pd.read_csv(\"e. CARTIER_PREVIOUS_SALES.csv\")\n",
    "df_Sales = pd.read_csv(\"f. CARTIER_SALES.csv\")\n",
    "df_Wishlist = pd.read_csv(\"g. CARTIER_WISHLIST.csv\")\n",
    "\n",
    "# Merged sales and previous sales dataset with extra column [in_salesdataset] to indicate to which original dataset the data belong\n",
    "\n",
    "df_Sales['in_salesdataset']=1\n",
    "df_PrevSales['in_salesdataset']=0\n",
    "df_AllSales = pd.concat([df_Sales, df_PrevSales])\n",
    "df_AllSales = df_AllSales.sort_values(by='ClientID', ascending= True)\n",
    "\n",
    "# Define a sample dataset to work with for speed purposes if necessary (10% of size)\n",
    "\n",
    "#df_AllSalesSample = df_AllSales.head(int(round((len(df_allsales)/(10)),0)))"
   ]
  },
  {
   "cell_type": "markdown",
   "metadata": {
    "datalore": {
     "hide_input_from_viewers": false,
     "hide_output_from_viewers": false,
     "node_id": "dUPRadFx3IO8tnqSVXv2MQ",
     "type": "MD"
    }
   },
   "source": [
    "## 3. Quick look at our columns"
   ]
  },
  {
   "cell_type": "code",
   "execution_count": 3,
   "metadata": {
    "datalore": {
     "hide_input_from_viewers": false,
     "hide_output_from_viewers": false,
     "node_id": "I6Ly9SvBZdU7pyUvUZWWh9",
     "type": "CODE"
    }
   },
   "outputs": [
    {
     "name": "stdout",
     "output_type": "stream",
     "text": [
      "['InvoiceHeader', 'Channel', 'TransactionDate', 'TransactionDate_FYYYY', 'TransactionCategory', 'ClientID', 'AgeAtTransaction', 'Gender', 'PersonBirthDate', 'WeddingDate', 'SpokenLanguage', 'WrittenLanguage', 'FirstSalesDate', 'FirstTransactionDate', 'ProductCategory', 'ProductSubCategory', 'ProductFunction', 'Turnover', 'quantity', 'seq_sales_trs', 'nb_days_since_last_sale', 'PurchasedMarketA', 'PurchasedRegionA', 'ResidencyRegionA', 'ResidencyMarketA', 'BoutiqueNameA', 'ResidencyCountryA', 'nationalityA', 'articleA', 'Hier_Lev_3_txtA', 'Hier_Lev_4_txtA', 'Hier_Lev_5_txtA', 'ProductCollectionA', 'in_salesdataset', 'NationalityA', 'ArticleA']\n"
     ]
    }
   ],
   "source": [
    "# To see the columns we have \n",
    "\n",
    "print(list(df_AllSales))\n",
    "#print(list(anything else you want to see))"
   ]
  },
  {
   "cell_type": "markdown",
   "metadata": {
    "datalore": {
     "hide_input_from_viewers": false,
     "hide_output_from_viewers": false,
     "node_id": "MRlVkGJQ5qogO55sBV5NCR",
     "type": "MD"
    }
   },
   "source": [
    "## 4. Generating the report"
   ]
  },
  {
   "cell_type": "code",
   "execution_count": null,
   "metadata": {
    "datalore": {
     "hide_input_from_viewers": false,
     "hide_output_from_viewers": false,
     "node_id": "7EUPdfz7NnQkQo0TdeDHZ8",
     "type": "CODE"
    }
   },
   "outputs": [],
   "source": [
    "### We can generate a profile to obtain description of our datasets\n",
    "### This can take some time if running report on large datasets\n",
    "### We can run the report on our sample dataset\n",
    "\n",
    "# Profile for Sales Sample\n",
    "\n",
    "#Profile_AllSalesSample = ProfileReport(df_Allsales, title=\"Pandas Profiling Report Sales\")\n",
    "\n",
    "# Visualizing the report\n",
    "\n",
    "#Report to iframe (will open report in notebook)\n",
    "\n",
    "#Profile_AllSalesSample.to_notebook_iframe()\n",
    "\n",
    "## Report to HTML (Will open up a new tab)\n",
    "#Profile_AllSalesSample.to_file(output_file='All Sales Sample report')"
   ]
  },
  {
   "cell_type": "markdown",
   "metadata": {},
   "source": [
    "## 5. Next we would like to create new columns in [Allsales] to identify wether clientID is present in [Calls], [LiveChat], [Clienteling] or any one of the 3 (we can call this column: \"interaction' and assign 1 if there was interaction of any kind and 0 otherwise.\n",
    "\n",
    "### This will be needed to filter our data and run a multidimentional analysis\n",
    "#### To answer questions regarding contacts and communication between Cartier and Clients, we only need data concerning ClientsID who've had interactions with Cartier"
   ]
  },
  {
   "cell_type": "code",
   "execution_count": null,
   "metadata": {},
   "outputs": [],
   "source": [
    "#Code:"
   ]
  },
  {
   "cell_type": "markdown",
   "metadata": {},
   "source": [
    "# 6. Generate a table which shows what % of total # of ClientID are present in Calls, Livechat, Clienteling and all 3 of them. "
   ]
  },
  {
   "cell_type": "code",
   "execution_count": 3,
   "metadata": {},
   "outputs": [],
   "source": [
    "#Code:"
   ]
  },
  {
   "cell_type": "markdown",
   "metadata": {},
   "source": [
    "# 7. We now have to filter [AllSales] in order to obtain only the clientID which repurchased after 4 years.\n",
    "## This is the question I was thinking that QTEM just specified in an email\n",
    "### The dataset **WASNT** properly filtered as was indicated... We''ll have to do it ourselves which means that all sales in Fiscal Year 2017-2020 are irrelevant / do not belong to clients who repurchased after 4 years. "
   ]
  },
  {
   "cell_type": "code",
   "execution_count": 5,
   "metadata": {},
   "outputs": [],
   "source": [
    "#Code"
   ]
  },
  {
   "cell_type": "markdown",
   "metadata": {},
   "source": [
    "# 8. Filter [AllSales] by Interaction = 1\n",
    "## What kind of question can we answer with this data? (Brainstorm needed)\n",
    "### Were the purchases made right after communication? \n",
    "#### Compare data of purchase with date of latest interaction\n",
    "### Which type of communication caused the most repurchases ? \n",
    "#### Can we use turnover to evaluate which type of communication made the most revenues?"
   ]
  },
  {
   "cell_type": "code",
   "execution_count": 4,
   "metadata": {},
   "outputs": [],
   "source": [
    "# Code"
   ]
  },
  {
   "cell_type": "markdown",
   "metadata": {},
   "source": [
    "# 9. "
   ]
  },
  {
   "cell_type": "code",
   "execution_count": null,
   "metadata": {},
   "outputs": [],
   "source": []
  }
 ],
 "metadata": {
  "datalore": {
   "base_environment": "default",
   "computation_mode": "JUPYTER",
   "package_manager": "pip",
   "packages": [
    {
     "name": "pandas-profiling",
     "source": "PIP",
     "version": "3.2.0"
    }
   ],
   "version": 1
  },
  "kernelspec": {
   "display_name": "Python 3",
   "language": "python",
   "name": "python3"
  },
  "language_info": {
   "codemirror_mode": {
    "name": "ipython",
    "version": 3
   },
   "file_extension": ".py",
   "mimetype": "text/x-python",
   "name": "python",
   "nbconvert_exporter": "python",
   "pygments_lexer": "ipython3",
   "version": "3.8.5"
  }
 },
 "nbformat": 4,
 "nbformat_minor": 4
}
