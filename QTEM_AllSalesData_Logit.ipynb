{
 "cells": [
  {
   "cell_type": "code",
   "execution_count": 1,
   "metadata": {},
   "outputs": [],
   "source": [
    "import numpy as np\n",
    "import scipy as sp\n",
    "from scipy import linalg\n",
    "from scipy import optimize\n",
    "from scipy import interpolate\n",
    "import sympy as sm\n",
    "from scipy.special import erfinv\n",
    "import pandas as pd\n",
    "import seaborn as sns\n",
    "%matplotlib inline\n",
    "import matplotlib.pyplot as plt\n",
    "\n",
    "from sklearn.linear_model import LogisticRegression\n",
    "import statsmodels.api as sm\n",
    "from statsmodels.discrete.discrete_model import Logit, Probit, MNLogit\n",
    "import statsmodels.formula.api as smf\n",
    "import warnings\n",
    "warnings.filterwarnings('ignore')\n",
    "pd.set_option('max_columns', None)"
   ]
  },
  {
   "cell_type": "code",
   "execution_count": 21,
   "metadata": {},
   "outputs": [],
   "source": [
    "#importing all datasets(!!please change the path before running the codes)\n",
    "df_Calls = pd.read_csv('b. CARTIER_CALLS.csv')\n",
    "df_Clienteling = pd.read_csv('c. CARTIER_CLIENTELING.csv')\n",
    "df_Livechat = pd.read_csv('d. CARTIER_LIVECHAT.csv')\n",
    "df_PrevSales = pd.read_csv('e. CARTIER_PREVIOUS_SALES.csv')\n",
    "df_Sales = pd.read_csv('f. CARTIER_SALES.csv')\n",
    "df_Wishlist = pd.read_csv('g. CARTIER_WISHLIST.csv')\n",
    "\n",
    "df_AllSales = pd.read_csv('df_AllSalesLogit.csv') # This is the merged dataset that has been cleaned \n",
    "\n",
    "# df_AllSales has been transformed in the following way\n",
    "\n",
    "    # TransactionCategory is only Sales\n",
    "    # All Records before 2010 have been dropped\n",
    "    # nb_days_since_last_sale \"NAN\" have been recoded to 0 if transactiondate = dateoffirstsale\n",
    "    # dropped hierarchy variables\n",
    "    # duplicates have been dropped\n",
    "    # Calls, Clienteling, Wishlist, Livechat dummy variables have been created\n",
    "        # =1 if ClientID is present in the corresponding dataset, =0 otherwise\n",
    "        # We have to create a more accurate dummy that will be =1 if ClientID was contacted between his last sale\n",
    "        # and the one before that\n",
    "    #repurchase_long & repurchase_exact4 dummy variable created\n",
    "        # repurchase_long =1 if nb_days_since_last_sale > 1460\n",
    "        # repurchase_exact4 =1 if nb_days_since_last_sale is between [1400,1520]\n"
   ]
  },
  {
   "cell_type": "code",
   "execution_count": 6,
   "metadata": {},
   "outputs": [
    {
     "name": "stdout",
     "output_type": "stream",
     "text": [
      "Total dataset size is : 1569700  observations\n"
     ]
    },
    {
     "data": {
      "text/plain": [
       "Unnamed: 0                       0\n",
       "InvoiceHeader                 5582\n",
       "Channel                          0\n",
       "TransactionDate                  0\n",
       "TransactionDate_FYYYY            0\n",
       "TransactionCategory              0\n",
       "ClientID                         0\n",
       "AgeAtTransaction            638287\n",
       "Gender                        1813\n",
       "PersonBirthDate             528936\n",
       "WeddingDate                1407946\n",
       "SpokenLanguage                1334\n",
       "WrittenLanguage               1334\n",
       "FirstSalesDate                 445\n",
       "FirstTransactionDate           245\n",
       "ProductCategory               1177\n",
       "ProductSubCategory            1177\n",
       "ProductFunction               1177\n",
       "Turnover                     74074\n",
       "quantity                         0\n",
       "seq_sales_trs                    0\n",
       "nb_days_since_last_sale      17554\n",
       "PurchasedMarketA                 0\n",
       "PurchasedRegionA                 0\n",
       "ResidencyRegionA                 0\n",
       "ResidencyMarketA                 0\n",
       "BoutiqueNameA               513011\n",
       "ResidencyCountryA                6\n",
       "nationalityA               1358025\n",
       "ArticleA                      1177\n",
       "ProductCollectionA            3113\n",
       "in_salesdataset                  0\n",
       "NationalityA                826836\n",
       "repurchase_long                  0\n",
       "repurchase_exact4                0\n",
       "Calls                            0\n",
       "Clienteling                      0\n",
       "Livechat                         0\n",
       "Wishlist                         0\n",
       "dtype: int64"
      ]
     },
     "execution_count": 6,
     "metadata": {},
     "output_type": "execute_result"
    }
   ],
   "source": [
    "# Looking at how many NAs we have is useful becasuse Logit model will drop all rows with missing values\n",
    "# Here Wedding Date is missing on 1 407 946 observations (90% of total)\n",
    "\n",
    "print(\"Total dataset size is :\",df_AllSales.shape[0], \" observations\")\n",
    "df_AllSales.isna().sum()"
   ]
  },
  {
   "cell_type": "code",
   "execution_count": 22,
   "metadata": {},
   "outputs": [
    {
     "name": "stdout",
     "output_type": "stream",
     "text": [
      "         Unnamed: 0  InvoiceHeader  Channel  TransactionDate  \\\n",
      "Gender                                                         \n",
      "Couple       103348         103270   103348           103348   \n",
      "Female       811035         807851   811035           811035   \n",
      "Male         626660         624368   626660           626660   \n",
      "Unknown       26844          26843    26844            26844   \n",
      "\n",
      "         TransactionDate_FYYYY  TransactionCategory  ClientID  \\\n",
      "Gender                                                          \n",
      "Couple                  103348               103348    103348   \n",
      "Female                  811035               811035    811035   \n",
      "Male                    626660               626660    626660   \n",
      "Unknown                  26844                26844     26844   \n",
      "\n",
      "         AgeAtTransaction  PersonBirthDate  WeddingDate  SpokenLanguage  \\\n",
      "Gender                                                                    \n",
      "Couple              66191            78083        23871          103345   \n",
      "Female             512139           573845        82482          811008   \n",
      "Male               342339           377099        53297          626651   \n",
      "Unknown             10439            11419         2047           25593   \n",
      "\n",
      "         WrittenLanguage  FirstSalesDate  FirstTransactionDate  \\\n",
      "Gender                                                           \n",
      "Couple            103345          103336                103340   \n",
      "Female            811008          810793                810918   \n",
      "Male              626651          626541                626600   \n",
      "Unknown            25593           26783                 26795   \n",
      "\n",
      "         ProductCategory  ProductSubCategory  ProductFunction  Turnover  \\\n",
      "Gender                                                                    \n",
      "Couple            103321              103321           103321    100228   \n",
      "Female            810234              810234           810234    777231   \n",
      "Male              626317              626317           626317    590842   \n",
      "Unknown            26839               26839            26839     25655   \n",
      "\n",
      "         quantity  seq_sales_trs  nb_days_since_last_sale  PurchasedMarketA  \\\n",
      "Gender                                                                        \n",
      "Couple     103348         103348                   101800            103348   \n",
      "Female     811035         811035                   803803            811035   \n",
      "Male       626660         626660                   618150            626660   \n",
      "Unknown     26844          26844                    26597             26844   \n",
      "\n",
      "         PurchasedRegionA  ResidencyRegionA  ResidencyMarketA  BoutiqueNameA  \\\n",
      "Gender                                                                         \n",
      "Couple             103348            103348            103348          81061   \n",
      "Female             811035            811035            811035         564416   \n",
      "Male               626660            626660            626660         391275   \n",
      "Unknown             26844             26844             26844          19103   \n",
      "\n",
      "         ResidencyCountryA  nationalityA  ArticleA  ProductCollectionA  \\\n",
      "Gender                                                                   \n",
      "Couple              103347         14919    103321              103107   \n",
      "Female              811032        109305    810234              809393   \n",
      "Male                626658         84041    626317              625458   \n",
      "Unknown              26844          3295     26839               26818   \n",
      "\n",
      "         in_salesdataset  NationalityA  repurchase_long  repurchase_exact4  \\\n",
      "Gender                                                                       \n",
      "Couple            103348         76331           103348             103348   \n",
      "Female            811035        369715           811035             811035   \n",
      "Male              626660        287298           626660             626660   \n",
      "Unknown            26844          9146            26844              26844   \n",
      "\n",
      "          Calls  Clienteling  Livechat  Wishlist  \n",
      "Gender                                            \n",
      "Couple   103348       103348    103348    103348  \n",
      "Female   811035       811035    811035    811035  \n",
      "Male     626660       626660    626660    626660  \n",
      "Unknown   26844        26844     26844     26844  \n",
      "         Gender_Couple  Gender_Female  Gender_Male  Gender_Unknown\n",
      "0                    0              0            1               0\n",
      "1                    0              0            1               0\n",
      "2                    0              0            1               0\n",
      "3                    0              0            1               0\n",
      "4                    0              0            1               0\n",
      "...                ...            ...          ...             ...\n",
      "1569695              0              1            0               0\n",
      "1569696              0              0            1               0\n",
      "1569697              0              1            0               0\n",
      "1569698              0              0            1               0\n",
      "1569699              0              0            1               0\n",
      "\n",
      "[1569700 rows x 4 columns]\n"
     ]
    }
   ],
   "source": [
    "## Create Dummy variables (GENDER)\n",
    "\n",
    "gender_grp = df_AllSales.groupby(['Gender']).count()\n",
    "print(gender_grp)\n",
    "\n",
    "# Here we have 103348 couples\n",
    "# 811035 Female\n",
    "# 626660 Male\n",
    "# 26844 Unknown\n",
    "#df_AllSales = df_AllSales.assign(Calls=df_AllSales.ClientID.isin(df_Calls.ClientID).astype(int))\n",
    "\n",
    "#Pre-process \"Gender\" as the first dummy independent variable\n",
    "dummy_Gender=pd.get_dummies(df_AllSales['Gender'],prefix='Gender')\n",
    "print(dummy_Gender)\n",
    "df_AllSales= pd.concat([df_AllSales, dummy_Gender], axis=1)\n"
   ]
  },
  {
   "cell_type": "code",
   "execution_count": 23,
   "metadata": {},
   "outputs": [
    {
     "data": {
      "text/plain": [
       "<bound method NDFrame.head of          Unnamed: 0                            InvoiceHeader    Channel  \\\n",
       "0            122626                                      NaN   Boutique   \n",
       "1            134321                                      NaN   Boutique   \n",
       "2            125277                                      NaN   Boutique   \n",
       "3             22358  302109220925007-GEMINI-/BIC/AZRIRBARP00   Boutique   \n",
       "4            110727                                      NaN   Boutique   \n",
       "...             ...                                      ...        ...   \n",
       "1569695      357224  S34602000003263-GEMINI-/BIC/AZRIRBAAP00   Boutique   \n",
       "1569696     1468692     171611808-GEMINIB2B-/BIC/AZ4CRME0100  Wholesale   \n",
       "1569697       92232     166727100-GEMINIB2B-/BIC/AZ4CRME0400  Wholesale   \n",
       "1569698      350821       XCN1027212-GEMINI-/BIC/AZRIRBAAP00   Boutique   \n",
       "1569699      252156  S21003000004080-GEMINI-/BIC/AZRIRBAAP00   Boutique   \n",
       "\n",
       "        TransactionDate  TransactionDate_FYYYY TransactionCategory  \\\n",
       "0            2019-12-14                   2020                Sale   \n",
       "1            2019-12-14                   2020                Sale   \n",
       "2            2019-12-14                   2020                Sale   \n",
       "3            2022-09-25                   2023                Sale   \n",
       "4            2021-05-11                   2022                Sale   \n",
       "...                 ...                    ...                 ...   \n",
       "1569695      2022-07-18                   2023                Sale   \n",
       "1569696      2022-06-22                   2023                Sale   \n",
       "1569697      2020-07-22                   2021                Sale   \n",
       "1569698      2019-08-25                   2020                Sale   \n",
       "1569699      2021-07-07                   2022                Sale   \n",
       "\n",
       "                   ClientID  AgeAtTransaction  Gender PersonBirthDate  \\\n",
       "0        0011i00000UNT9LAAX              56.0    Male      1964-10-13   \n",
       "1        0011i00000UNT9LAAX              56.0    Male      1964-10-13   \n",
       "2        0011i00000UNT9LAAX              56.0    Male      1964-10-13   \n",
       "3        0011i00000UNT9LAAX              59.0    Male      1964-10-13   \n",
       "4        0011i00000UNTHbAAP              28.0    Male      1994-11-23   \n",
       "...                     ...               ...     ...             ...   \n",
       "1569695  0011i00001VcCMQAA3              46.0  Female      1977-01-13   \n",
       "1569696  0011i00001VcMuUAAV               NaN    Male             NaN   \n",
       "1569697  0011i00001VcgKDAAZ              40.0  Female      1981-04-08   \n",
       "1569698  0011i00001Vdw67AAB              40.0    Male      1980-12-20   \n",
       "1569699  0011i00001Vdw67AAB              42.0    Male      1980-12-20   \n",
       "\n",
       "        WeddingDate SpokenLanguage WrittenLanguage FirstSalesDate  \\\n",
       "0               NaN        English         English     2019-12-14   \n",
       "1               NaN        English         English     2019-12-14   \n",
       "2               NaN        English         English     2019-12-14   \n",
       "3               NaN        English         English     2019-12-14   \n",
       "4        2019-06-15        English         English     2016-12-10   \n",
       "...             ...            ...             ...            ...   \n",
       "1569695         NaN       Mandarin         Chinese     2022-07-18   \n",
       "1569696         NaN        English         English     2022-06-22   \n",
       "1569697         NaN        Chinese         Chinese     2020-07-22   \n",
       "1569698         NaN       Mandarin         Chinese     2019-08-25   \n",
       "1569699         NaN       Mandarin         Chinese     2019-08-25   \n",
       "\n",
       "        FirstTransactionDate                        ProductCategory  \\\n",
       "0                 2011-06-11                                    NaN   \n",
       "1                 2011-06-11                                    NaN   \n",
       "2                 2011-06-11                                    NaN   \n",
       "3                 2011-06-11                                WATCHES   \n",
       "4                 2016-12-10                            ACCESSORIES   \n",
       "...                      ...                                    ...   \n",
       "1569695           2022-07-18                                JEWELRY   \n",
       "1569696           2022-06-22                                WATCHES   \n",
       "1569697           2020-07-22                                WATCHES   \n",
       "1569698           2019-08-25                                WATCHES   \n",
       "1569699           2019-08-25  REFILL, CS ACCESSORIES OR SPARE PARTS   \n",
       "\n",
       "        ProductSubCategory ProductFunction     Turnover  quantity  \\\n",
       "0                      NaN             NaN    65.678613         1   \n",
       "1                      NaN             NaN    81.143832         1   \n",
       "2                      NaN             NaN   479.618832         1   \n",
       "3          NON PRECIOUS W.        STEEL W.  8205.120000         1   \n",
       "4               FRAGRANCES       FRAGRANCE   117.398943         1   \n",
       "...                    ...             ...          ...       ...   \n",
       "1569695             BIJOUX     NECK./PEND.  2034.335329         1   \n",
       "1569696    NON PRECIOUS W.        STEEL W.  6367.515000         1   \n",
       "1569697    NON PRECIOUS W.        STEEL W.  4708.727576         1   \n",
       "1569698    NON PRECIOUS W.        STEEL W.  4022.531565         1   \n",
       "1569699     LEATHER STRAPS           OTHER   273.295783         1   \n",
       "\n",
       "         seq_sales_trs  nb_days_since_last_sale  PurchasedMarketA  \\\n",
       "0                    3                   2441.0                12   \n",
       "1                    3                   2441.0                12   \n",
       "2                    3                   2441.0                12   \n",
       "3                    4                   1016.0                 2   \n",
       "4                    9                    456.0                23   \n",
       "...                ...                      ...               ...   \n",
       "1569695              1                      0.0                 1   \n",
       "1569696              1                      0.0                 2   \n",
       "1569697              1                      0.0                 1   \n",
       "1569698              1                      0.0                 1   \n",
       "1569699              2                    682.0                 1   \n",
       "\n",
       "         PurchasedRegionA  ResidencyRegionA  ResidencyMarketA  BoutiqueNameA  \\\n",
       "0                       5                 5                12            NaN   \n",
       "1                       5                 5                12            NaN   \n",
       "2                       5                 5                12            NaN   \n",
       "3                       2                 5                12           89.0   \n",
       "4                       5                 5                23            NaN   \n",
       "...                   ...               ...               ...            ...   \n",
       "1569695                 1                 1                 1           24.0   \n",
       "1569696                 2                 2                 2            NaN   \n",
       "1569697                 1                 1                 1            NaN   \n",
       "1569698                 1                 1                 1           34.0   \n",
       "1569699                 1                 1                 1           34.0   \n",
       "\n",
       "         ResidencyCountryA  nationalityA  ArticleA  ProductCollectionA  \\\n",
       "0                     89.0           NaN       NaN                 NaN   \n",
       "1                     89.0           NaN       NaN                 NaN   \n",
       "2                     89.0           NaN       NaN                 NaN   \n",
       "3                     89.0          90.0  635779.0                83.0   \n",
       "4                     91.0           NaN  167161.0                51.0   \n",
       "...                    ...           ...       ...                 ...   \n",
       "1569695                1.0           NaN  123099.0                57.0   \n",
       "1569696              110.0           NaN  641869.0                92.0   \n",
       "1569697                1.0           NaN  636308.0                 6.0   \n",
       "1569698                1.0           NaN  641745.0                15.0   \n",
       "1569699                1.0           NaN  256734.0                78.0   \n",
       "\n",
       "         in_salesdataset  NationalityA  repurchase_long  repurchase_exact4  \\\n",
       "0                      0          90.0                1                  0   \n",
       "1                      0          90.0                1                  0   \n",
       "2                      0          90.0                1                  0   \n",
       "3                      1           NaN                0                  0   \n",
       "4                      0         155.0                0                  0   \n",
       "...                  ...           ...              ...                ...   \n",
       "1569695                0          44.0                0                  0   \n",
       "1569696                0           NaN                0                  0   \n",
       "1569697                0           NaN                0                  0   \n",
       "1569698                0           NaN                0                  0   \n",
       "1569699                1           NaN                0                  0   \n",
       "\n",
       "         Calls  Clienteling  Livechat  Wishlist  Gender_Couple  Gender_Female  \\\n",
       "0            0            0         0         0              0              0   \n",
       "1            0            0         0         0              0              0   \n",
       "2            0            0         0         0              0              0   \n",
       "3            0            0         0         0              0              0   \n",
       "4            0            1         0         0              0              0   \n",
       "...        ...          ...       ...       ...            ...            ...   \n",
       "1569695      0            0         0         0              0              1   \n",
       "1569696      0            0         0         0              0              0   \n",
       "1569697      0            0         0         0              0              1   \n",
       "1569698      0            0         0         0              0              0   \n",
       "1569699      0            0         0         0              0              0   \n",
       "\n",
       "         Gender_Male  Gender_Unknown  Channel_Boutique  Channel_CC  \\\n",
       "0                  1               0                 1           0   \n",
       "1                  1               0                 1           0   \n",
       "2                  1               0                 1           0   \n",
       "3                  1               0                 1           0   \n",
       "4                  1               0                 1           0   \n",
       "...              ...             ...               ...         ...   \n",
       "1569695            0               0                 1           0   \n",
       "1569696            1               0                 0           0   \n",
       "1569697            0               0                 0           0   \n",
       "1569698            1               0                 1           0   \n",
       "1569699            1               0                 1           0   \n",
       "\n",
       "         Channel_Web  Channel_Wholesale  \n",
       "0                  0                  0  \n",
       "1                  0                  0  \n",
       "2                  0                  0  \n",
       "3                  0                  0  \n",
       "4                  0                  0  \n",
       "...              ...                ...  \n",
       "1569695            0                  0  \n",
       "1569696            0                  1  \n",
       "1569697            0                  1  \n",
       "1569698            0                  0  \n",
       "1569699            0                  0  \n",
       "\n",
       "[1569700 rows x 47 columns]>"
      ]
     },
     "execution_count": 23,
     "metadata": {},
     "output_type": "execute_result"
    }
   ],
   "source": [
    "#Pre-process \"AgeAtTransaction\" as a serial independent variable\n",
    "#data2= data2.dropna(subset=['AgeAtTransaction'])\n",
    "#data2['AgeAtTransaction']=data2['AgeAtTransaction'].astype(int)\n",
    "#data2.head()\n",
    "\n",
    "#Pre-process \"Channel\" as the second dummy indepedent variable.\n",
    "dummy_Channel=pd.get_dummies(df_AllSales['Channel'],prefix='Channel')\n",
    "df_AllSales = pd.concat([df_AllSales, dummy_Channel], axis=1)\n",
    "\n",
    "df_AllSales.head"
   ]
  },
  {
   "cell_type": "code",
   "execution_count": null,
   "metadata": {},
   "outputs": [],
   "source": [
    "#Make variables calls, livechat, clienteling, and wishlist into dummy variables.\n",
    "#dummy_Calls=pd.get_dummies(data2['Calls'],prefix='Calls')\n",
    "#data2['Calls_yes']=dummy_Calls['Calls_yes']\n",
    "#dummy_LiveChat=pd.get_dummies(data2['LiveChat'],prefix='LiveChat')\n",
    "#data2['LiveChat_yes']=dummy_LiveChat['LiveChat_yes']\n",
    "#dummy_Wishlist=pd.get_dummies(data2['Wishlist'],prefix='Wishlist')\n",
    "#data2['Wishlist_yes']=dummy_Wishlist['Wishlist_yes']\n",
    "#dummy_Clienteling=pd.get_dummies(data2['Clienteling'],prefix='Clienteling')\n",
    "#data2['Clienteling_yes']=dummy_Clienteling['Clienteling_yes']\n",
    "#Here 1 means the interaction via calls, livechat or clitenteling exists before the transaction, or the creation of wishlist exists"
   ]
  },
  {
   "cell_type": "code",
   "execution_count": 25,
   "metadata": {},
   "outputs": [],
   "source": [
    "# Create birthday_occasion dummy variable -> we might want to adjust the range that we consider birthday occasion to <60\n",
    "\n",
    "YEAR_IN_DAYS = 365.25\n",
    "TWO_MONTHS_IN_DAYS = 60\n",
    "\n",
    "# Function to apply to every row\n",
    "def Birthday_Occasion(b, t):\n",
    "    delta=(t - b).days % YEAR_IN_DAYS\n",
    "    return int(delta == 0 or YEAR_IN_DAYS - delta <= TWO_MONTHS_IN_DAYS)\n",
    "\n",
    "\n",
    "# Convert columns into date objects\n",
    "df_AllSales['TransactionDate'] = pd.to_datetime(df_AllSales['TransactionDate'], format='%Y-%m-%d')\n",
    "df_AllSales['PersonBirthDate'] = pd.to_datetime(df_AllSales['PersonBirthDate'], format='%Y-%m-%d')\n",
    "\n",
    "# Apply function on row and save dataset\n",
    "df_AllSales['Birthday_Occasion'] = df_AllSales.apply(lambda x: Birthday_Occasion(x.PersonBirthDate, x.TransactionDate), axis=1)"
   ]
  },
  {
   "cell_type": "code",
   "execution_count": 26,
   "metadata": {},
   "outputs": [],
   "source": [
    "# Create wedding_occasion dummy variable -> we might want to adjust the range that we consider wedding occasion to <60\n",
    "\n",
    "# Function to apply to every row\n",
    "def Wedding_Occasion(b, t):\n",
    "    delta=(t - b).days % YEAR_IN_DAYS\n",
    "    return int(delta == 0 or YEAR_IN_DAYS - delta <= TWO_MONTHS_IN_DAYS)\n",
    "\n",
    "\n",
    "# Convert columns into date objects\n",
    "#df_AllSalesDate['WeddingDate'] = pd.to_datetime(df_AllSalesDate['WeddingDate'], format='%Y-%m-%d')\n",
    "df_AllSales['WeddingDate']= pd.to_datetime(df_AllSales['WeddingDate'],errors = 'coerce')\n",
    "\n",
    "#Delete unreasonable dates\n",
    "df_AllSales.loc[df_AllSales['PersonBirthDate'].dt.year <= 1900, 'PersonBirthDate']=np.nan\n",
    "df_AllSales.loc[df_AllSales['WeddingDate'].dt.year >= 2030, 'WeddingDate']=np.nan\n",
    "df_AllSales.loc[df_AllSales['WeddingDate'].dt.year <= 1900, 'WeddingDate']=np.nan\n",
    "\n",
    "# Apply function on row and save dataset\n",
    "df_AllSales['Wedding_Occasion'] = df_AllSales.apply(lambda x: Wedding_Occasion(x.WeddingDate, x.TransactionDate), axis=1)"
   ]
  },
  {
   "cell_type": "markdown",
   "metadata": {},
   "source": [
    "## This is the code to Group the dataset by ClientID\n",
    "## We will do that once we've further trimmed down the dataset to the 2 last transactions"
   ]
  },
  {
   "cell_type": "code",
   "execution_count": 43,
   "metadata": {},
   "outputs": [],
   "source": [
    "df_AllSalesClient = df_AllSales.groupby(['ClientID'])[['repurchase_long','repurchase_exact4','Gender_Female','Gender_Male','Gender_Couple','Channel_Boutique','Channel_Web','Channel_CC',\n",
    "                        'Calls','Clienteling','Livechat','Wishlist','Birthday_Occasion','Wedding_Occasion', 'Turnover', 'PersonBirthDate', 'WeddingDate','nb_days_since_last_sale']].max()  "
   ]
  },
  {
   "cell_type": "code",
   "execution_count": 42,
   "metadata": {},
   "outputs": [
    {
     "name": "stdout",
     "output_type": "stream",
     "text": [
      "                    repurchase_long  repurchase_exact4  Gender_Female  \\\n",
      "ClientID                                                                \n",
      "0011i00000UNT9LAAX                1                  0              0   \n",
      "0011i00000UNTHbAAP                0                  0              0   \n",
      "0011i00000UNTM0AAP                0                  0              0   \n",
      "0011i00000UNTMyAAP                1                  0              0   \n",
      "0011i00000UNTXwAAP                0                  0              1   \n",
      "\n",
      "                    Gender_Male  Gender_Couple  Channel_Boutique  Channel_Web  \\\n",
      "ClientID                                                                        \n",
      "0011i00000UNT9LAAX            1              0                 1            0   \n",
      "0011i00000UNTHbAAP            1              0                 1            0   \n",
      "0011i00000UNTM0AAP            1              0                 1            0   \n",
      "0011i00000UNTMyAAP            1              0                 1            0   \n",
      "0011i00000UNTXwAAP            0              0                 1            0   \n",
      "\n",
      "                    Channel_CC  Calls  Clienteling  Livechat  Wishlist  \\\n",
      "ClientID                                                                 \n",
      "0011i00000UNT9LAAX           0      0            0         0         0   \n",
      "0011i00000UNTHbAAP           0      0            1         0         0   \n",
      "0011i00000UNTM0AAP           0      0            1         0         0   \n",
      "0011i00000UNTMyAAP           0      0            1         0         0   \n",
      "0011i00000UNTXwAAP           0      0            1         0         0   \n",
      "\n",
      "                    Birthday_Occasion  Wedding_Occasion      Turnover  \\\n",
      "ClientID                                                                \n",
      "0011i00000UNT9LAAX                  1                 0   8205.120000   \n",
      "0011i00000UNTHbAAP                  0                 1   5392.429293   \n",
      "0011i00000UNTM0AAP                  0                 1   5143.226558   \n",
      "0011i00000UNTMyAAP                  1                 0  13530.816297   \n",
      "0011i00000UNTXwAAP                  1                 0   7344.353769   \n",
      "\n",
      "                   PersonBirthDate WeddingDate  \n",
      "ClientID                                        \n",
      "0011i00000UNT9LAAX      1964-10-13         NaT  \n",
      "0011i00000UNTHbAAP      1994-11-23  2019-06-15  \n",
      "0011i00000UNTM0AAP      1978-12-26  2004-06-22  \n",
      "0011i00000UNTMyAAP      1987-01-24         NaT  \n",
      "0011i00000UNTXwAAP      1995-07-28         NaT  \n"
     ]
    }
   ],
   "source": [
    "print(df_AllSalesClient.head(5))"
   ]
  },
  {
   "cell_type": "markdown",
   "metadata": {},
   "source": [
    "## Logit Regression Transaction Level with repurchase_long"
   ]
  },
  {
   "cell_type": "code",
   "execution_count": 46,
   "metadata": {},
   "outputs": [],
   "source": [
    "#add constant\n",
    "df_AllSales['intercept']=1.0\n",
    "df_AllSalesClient['intercept']=1.0"
   ]
  },
  {
   "cell_type": "code",
   "execution_count": 30,
   "metadata": {},
   "outputs": [
    {
     "name": "stdout",
     "output_type": "stream",
     "text": [
      "Optimization terminated successfully.\n",
      "         Current function value: 0.048321\n",
      "         Iterations 10\n",
      "                           Logit Regression Results                           \n",
      "==============================================================================\n",
      "Dep. Variable:      repurchase_exact4   No. Observations:              1495626\n",
      "Model:                          Logit   Df Residuals:                  1495614\n",
      "Method:                           MLE   Df Model:                           11\n",
      "Date:                Fri, 06 Jan 2023   Pseudo R-squ.:                0.003217\n",
      "Time:                        15:09:11   Log-Likelihood:                -72270.\n",
      "converged:                       True   LL-Null:                       -72503.\n",
      "Covariance Type:            nonrobust   LLR p-value:                 4.394e-93\n",
      "====================================================================================\n",
      "                       coef    std err          z      P>|z|      [0.025      0.975]\n",
      "------------------------------------------------------------------------------------\n",
      "Gender_Female        0.1210      0.071      1.698      0.090      -0.019       0.261\n",
      "Gender_Male          0.1119      0.072      1.563      0.118      -0.028       0.252\n",
      "Gender_Couple        0.1418      0.078      1.811      0.070      -0.012       0.295\n",
      "Channel_Boutique     0.4535      0.080      5.689      0.000       0.297       0.610\n",
      "Channel_Web          0.1750      0.083      2.108      0.035       0.012       0.338\n",
      "Channel_CC           0.0973      0.094      1.040      0.298      -0.086       0.281\n",
      "Calls               -0.0440      0.035     -1.249      0.212      -0.113       0.025\n",
      "Clienteling         -0.0997      0.019     -5.232      0.000      -0.137      -0.062\n",
      "Livechat             0.4271      0.142      3.009      0.003       0.149       0.705\n",
      "Wishlist            -0.5503      0.047    -11.647      0.000      -0.643      -0.458\n",
      "Turnover         -3.903e-06   1.03e-06     -3.794      0.000   -5.92e-06   -1.89e-06\n",
      "intercept           -5.1772      0.106    -49.019      0.000      -5.384      -4.970\n",
      "====================================================================================\n"
     ]
    }
   ],
   "source": [
    "Model1=df_AllSales[['repurchase_long','Gender_Female','Gender_Male','Gender_Couple','Channel_Boutique','Channel_Web',\n",
    "                    'Channel_CC','Calls','Livechat','Clienteling','Wishlist','Turnover','intercept']]\n",
    "\n",
    "#Since there are too many missing values in wedding date and birth date, we build up two models, one with them and one without.\n",
    "#extract Indepedent variables into a dataframe for the model without wedding date\n",
    "Model1=Model1.dropna()\n",
    "Inde_var1=Model1.loc[:,['Gender_Female','Gender_Male','Gender_Couple','Channel_Boutique','Channel_Web','Channel_CC',\n",
    "                        'Calls','Clienteling','Livechat','Wishlist','Turnover','intercept']]\n",
    "#fit the logit model\n",
    "logit1=sm.Logit(Model1['repurchase_long'],Inde_var1)\n",
    "result1=logit1.fit()\n",
    "print(result1.summary())"
   ]
  },
  {
   "cell_type": "markdown",
   "metadata": {},
   "source": [
    "## Logit Regression Transaction Level with repurchase_exact4"
   ]
  },
  {
   "cell_type": "code",
   "execution_count": null,
   "metadata": {},
   "outputs": [],
   "source": [
    "Model2=df_AllSales[['repurchase_exact4','Gender_Female','Gender_Male','Gender_Couple','Channel_Boutique','Channel_Web',\n",
    "                    'Channel_CC','Calls','Livechat','Clienteling','Wishlist','Turnover','intercept', 'nb_days_since_last_sale']]\n",
    "\n",
    "#Since there are too many missing values in wedding date and birth date, we build up two models, one with them and one without.\n",
    "#extract Indepedent variables into a dataframe for the model without wedding date\n",
    "Model2=Model2.dropna()\n",
    "#fit the logit model\n",
    "logit2=sm.Logit(Model2['repurchase_exact4'],Inde_var1)\n",
    "result2=logit2.fit()\n",
    "print(result2.summary())"
   ]
  },
  {
   "cell_type": "markdown",
   "metadata": {},
   "source": [
    "## Logit regression with Birthday_Occasion "
   ]
  },
  {
   "cell_type": "code",
   "execution_count": 35,
   "metadata": {},
   "outputs": [
    {
     "name": "stdout",
     "output_type": "stream",
     "text": [
      "Optimization terminated successfully.\n",
      "         Current function value: 0.050486\n",
      "         Iterations 10\n",
      "                           Logit Regression Results                           \n",
      "==============================================================================\n",
      "Dep. Variable:      repurchase_exact4   No. Observations:               904939\n",
      "Model:                          Logit   Df Residuals:                   904926\n",
      "Method:                           MLE   Df Model:                           12\n",
      "Date:                Fri, 06 Jan 2023   Pseudo R-squ.:                0.001877\n",
      "Time:                        15:20:22   Log-Likelihood:                -45687.\n",
      "converged:                       True   LL-Null:                       -45773.\n",
      "Covariance Type:            nonrobust   LLR p-value:                 1.994e-30\n",
      "=====================================================================================\n",
      "                        coef    std err          z      P>|z|      [0.025      0.975]\n",
      "-------------------------------------------------------------------------------------\n",
      "Gender_Female         0.1149      0.112      1.025      0.305      -0.105       0.335\n",
      "Gender_Male           0.1494      0.112      1.328      0.184      -0.071       0.370\n",
      "Gender_Couple         0.1218      0.119      1.024      0.306      -0.111       0.355\n",
      "Channel_Boutique      0.3386      0.093      3.624      0.000       0.155       0.522\n",
      "Channel_Web           0.4052      0.098      4.122      0.000       0.213       0.598\n",
      "Channel_CC            0.4317      0.113      3.833      0.000       0.211       0.652\n",
      "Calls                 0.0555      0.046      1.198      0.231      -0.035       0.146\n",
      "Clienteling          -0.0168      0.024     -0.701      0.483      -0.064       0.030\n",
      "Livechat              0.6384      0.175      3.652      0.000       0.296       0.981\n",
      "Wishlist             -0.5258      0.059     -8.885      0.000      -0.642      -0.410\n",
      "Turnover          -3.403e-06   1.29e-06     -2.645      0.008   -5.92e-06   -8.82e-07\n",
      "intercept            -5.1819      0.145    -35.796      0.000      -5.466      -4.898\n",
      "Birthday_Occasion     0.1719      0.027      6.253      0.000       0.118       0.226\n",
      "=====================================================================================\n"
     ]
    }
   ],
   "source": [
    "Model3=df_AllSales[['repurchase_exact4','Gender_Female','Gender_Male','Gender_Couple','Channel_Boutique','Channel_Web',\n",
    "                    'Channel_CC','Calls','Livechat','Clienteling','Wishlist','Turnover','intercept','Birthday_Occasion',\n",
    "                    'PersonBirthDate', 'nb_days_since_last_sale']]\n",
    "\n",
    "#Since there are too many missing values in wedding date and birth date, we build up two models, one with them and one without.\n",
    "#extract Indepedent variables into a dataframe for the model without wedding date\n",
    "Model3=Model3.dropna()\n",
    "Inde_var3=Model3.loc[:,['Gender_Female','Gender_Male','Gender_Couple','Channel_Boutique','Channel_Web','Channel_CC',\n",
    "                        'Calls','Clienteling','Livechat','Wishlist','Turnover','intercept','Birthday_Occasion']]\n",
    "#fit the logit model\n",
    "logit3=sm.Logit(Model3['repurchase_exact4'],Inde_var3)\n",
    "result3=logit3.fit()\n",
    "print(result3.summary())"
   ]
  },
  {
   "cell_type": "markdown",
   "metadata": {},
   "source": [
    "## Logit regression with Wedding_Occasion"
   ]
  },
  {
   "cell_type": "code",
   "execution_count": 36,
   "metadata": {},
   "outputs": [
    {
     "name": "stdout",
     "output_type": "stream",
     "text": [
      "Optimization terminated successfully.\n",
      "         Current function value: 0.048659\n",
      "         Iterations 10\n",
      "                           Logit Regression Results                           \n",
      "==============================================================================\n",
      "Dep. Variable:      repurchase_exact4   No. Observations:               124556\n",
      "Model:                          Logit   Df Residuals:                   124543\n",
      "Method:                           MLE   Df Model:                           12\n",
      "Date:                Fri, 06 Jan 2023   Pseudo R-squ.:                0.006958\n",
      "Time:                        15:33:54   Log-Likelihood:                -6060.7\n",
      "converged:                       True   LL-Null:                       -6103.2\n",
      "Covariance Type:            nonrobust   LLR p-value:                 4.692e-13\n",
      "====================================================================================\n",
      "                       coef    std err          z      P>|z|      [0.025      0.975]\n",
      "------------------------------------------------------------------------------------\n",
      "Gender_Female       -0.3112      0.215     -1.446      0.148      -0.733       0.111\n",
      "Gender_Male         -0.3139      0.216     -1.450      0.147      -0.738       0.110\n",
      "Gender_Couple       -0.5092      0.230     -2.211      0.027      -0.960      -0.058\n",
      "Channel_Boutique     0.2331      0.412      0.566      0.571      -0.573       1.040\n",
      "Channel_Web          0.2338      0.427      0.548      0.584      -0.602       1.070\n",
      "Channel_CC          -0.0436      0.471     -0.093      0.926      -0.967       0.880\n",
      "Calls               -0.2036      0.141     -1.447      0.148      -0.479       0.072\n",
      "Clienteling         -0.0663      0.066     -1.012      0.311      -0.195       0.062\n",
      "Livechat             0.8730      0.458      1.908      0.056      -0.024       1.770\n",
      "Wishlist            -0.7478      0.158     -4.719      0.000      -1.058      -0.437\n",
      "Turnover         -6.461e-06    4.2e-06     -1.538      0.124   -1.47e-05    1.77e-06\n",
      "intercept           -4.6042      0.463     -9.941      0.000      -5.512      -3.696\n",
      "Wedding_Occasion     0.3122      0.068      4.578      0.000       0.179       0.446\n",
      "====================================================================================\n"
     ]
    }
   ],
   "source": [
    "Model4=df_AllSales[['repurchase_exact4','Gender_Female','Gender_Male','Gender_Couple','Channel_Boutique','Channel_Web',\n",
    "                    'Channel_CC','Calls','Livechat','Clienteling','Wishlist','Turnover','intercept', \n",
    "                    'nb_days_since_last_sale', 'WeddingDate','Wedding_Occasion']]\n",
    "\n",
    "#Since there are too many missing values in wedding date and birth date, we build up two models, one with them and one without.\n",
    "#extract Indepedent variables into a dataframe for the model without wedding date\n",
    "Model4=Model4.dropna()\n",
    "Inde_var3=Model4.loc[:,['Gender_Female','Gender_Male','Gender_Couple','Channel_Boutique','Channel_Web','Channel_CC',\n",
    "                        'Calls','Clienteling','Livechat','Wishlist','Turnover','intercept','Wedding_Occasion']]\n",
    "#fit the logit model\n",
    "logit4=sm.Logit(Model4['repurchase_exact4'],Inde_var3)\n",
    "result4=logit4.fit()\n",
    "print(result4.summary())"
   ]
  },
  {
   "cell_type": "markdown",
   "metadata": {},
   "source": [
    "## Logit regression with Both occasions"
   ]
  },
  {
   "cell_type": "code",
   "execution_count": 38,
   "metadata": {},
   "outputs": [
    {
     "name": "stdout",
     "output_type": "stream",
     "text": [
      "Optimization terminated successfully.\n",
      "         Current function value: 0.048981\n",
      "         Iterations 10\n",
      "                           Logit Regression Results                           \n",
      "==============================================================================\n",
      "Dep. Variable:      repurchase_exact4   No. Observations:               116884\n",
      "Model:                          Logit   Df Residuals:                   116870\n",
      "Method:                           MLE   Df Model:                           13\n",
      "Date:                Fri, 06 Jan 2023   Pseudo R-squ.:                0.007168\n",
      "Time:                        15:36:56   Log-Likelihood:                -5725.1\n",
      "converged:                       True   LL-Null:                       -5766.4\n",
      "Covariance Type:            nonrobust   LLR p-value:                 3.461e-12\n",
      "=====================================================================================\n",
      "                        coef    std err          z      P>|z|      [0.025      0.975]\n",
      "-------------------------------------------------------------------------------------\n",
      "Gender_Female        -0.3237      0.220     -1.470      0.142      -0.755       0.108\n",
      "Gender_Male          -0.3273      0.222     -1.477      0.140      -0.762       0.107\n",
      "Gender_Couple        -0.5133      0.236     -2.174      0.030      -0.976      -0.050\n",
      "Channel_Boutique      0.1645      0.412      0.400      0.689      -0.642       0.971\n",
      "Channel_Web           0.2279      0.427      0.534      0.593      -0.609       1.064\n",
      "Channel_CC           -0.0559      0.472     -0.119      0.906      -0.980       0.868\n",
      "Calls                -0.1639      0.141     -1.160      0.246      -0.441       0.113\n",
      "Clienteling          -0.0317      0.067     -0.470      0.638      -0.164       0.100\n",
      "Livechat              0.9376      0.458      2.049      0.040       0.041       1.835\n",
      "Wishlist             -0.7641      0.162     -4.708      0.000      -1.082      -0.446\n",
      "Turnover          -5.763e-06   4.19e-06     -1.375      0.169    -1.4e-05    2.45e-06\n",
      "intercept            -4.5894      0.466     -9.853      0.000      -5.502      -3.676\n",
      "Wedding_Occasion      0.3174      0.070      4.527      0.000       0.180       0.455\n",
      "Birthday_Occasion     0.1910      0.077      2.483      0.013       0.040       0.342\n",
      "=====================================================================================\n"
     ]
    }
   ],
   "source": [
    "Model5=df_AllSales[['repurchase_exact4','Gender_Female','Gender_Male','Gender_Couple','Channel_Boutique','Channel_Web',\n",
    "                    'Channel_CC','Calls','Livechat','Clienteling','Wishlist','Turnover','intercept','Birthday_Occasion',\n",
    "                    'PersonBirthDate','Wedding_Occasion', 'WeddingDate','nb_days_since_last_sale']]\n",
    "\n",
    "#Since there are too many missing values in wedding date and birth date, we build up two models,\n",
    "#one with them and one without.\n",
    "#extract Indepedent variables into a dataframe for the model without wedding date\n",
    "Model5=Model5.dropna()\n",
    "Inde_var4=Model5.loc[:,['Gender_Female','Gender_Male','Gender_Couple','Channel_Boutique','Channel_Web','Channel_CC',\n",
    "                        'Calls','Clienteling','Livechat','Wishlist','Turnover','intercept','Wedding_Occasion', 'Birthday_Occasion']]\n",
    "#fit the logit model\n",
    "logit5=sm.Logit(Model5['repurchase_exact4'],Inde_var4)\n",
    "result5=logit5.fit()\n",
    "print(result5.summary())"
   ]
  },
  {
   "cell_type": "markdown",
   "metadata": {},
   "source": [
    "## Client Level Logit model without occasions"
   ]
  },
  {
   "cell_type": "code",
   "execution_count": 51,
   "metadata": {
    "scrolled": true
   },
   "outputs": [
    {
     "name": "stdout",
     "output_type": "stream",
     "text": [
      "Optimization terminated successfully.\n",
      "         Current function value: 0.125033\n",
      "         Iterations 9\n",
      "                           Logit Regression Results                           \n",
      "==============================================================================\n",
      "Dep. Variable:      repurchase_exact4   No. Observations:               341661\n",
      "Model:                          Logit   Df Residuals:                   341649\n",
      "Method:                           MLE   Df Model:                           11\n",
      "Date:                Fri, 06 Jan 2023   Pseudo R-squ.:                0.006747\n",
      "Time:                        16:12:10   Log-Likelihood:                -42719.\n",
      "converged:                       True   LL-Null:                       -43009.\n",
      "Covariance Type:            nonrobust   LLR p-value:                2.172e-117\n",
      "====================================================================================\n",
      "                       coef    std err          z      P>|z|      [0.025      0.975]\n",
      "------------------------------------------------------------------------------------\n",
      "Gender_Female        0.2318      0.084      2.774      0.006       0.068       0.396\n",
      "Gender_Male          0.3005      0.084      3.573      0.000       0.136       0.465\n",
      "Gender_Couple        0.6078      0.092      6.626      0.000       0.428       0.788\n",
      "Channel_Boutique     0.9993      0.063     15.864      0.000       0.876       1.123\n",
      "Channel_Web         -0.1189      0.039     -3.054      0.002      -0.195      -0.043\n",
      "Channel_CC           0.3069      0.052      5.909      0.000       0.205       0.409\n",
      "Calls                0.0407      0.045      0.902      0.367      -0.048       0.129\n",
      "Clienteling         -0.0068      0.022     -0.310      0.757      -0.050       0.036\n",
      "Livechat             0.2931      0.218      1.343      0.179      -0.135       0.721\n",
      "Wishlist            -0.2501      0.066     -3.798      0.000      -0.379      -0.121\n",
      "Turnover          5.261e-08   1.63e-07      0.322      0.748   -2.68e-07    3.73e-07\n",
      "intercept           -4.7747      0.103    -46.433      0.000      -4.976      -4.573\n",
      "====================================================================================\n"
     ]
    }
   ],
   "source": [
    "Model7=df_AllSalesClient[['repurchase_exact4','Gender_Female','Gender_Male','Gender_Couple','Channel_Boutique','Channel_Web',\n",
    "                    'Channel_CC','Calls','Livechat','Clienteling','Wishlist','Turnover','intercept','nb_days_since_last_sale']]\n",
    "\n",
    "#Since there are too many missing values in wedding date and birth date, we build up two models, one with them and one without.\n",
    "#extract Indepedent variables into a dataframe for the model without wedding date\n",
    "Model7=Model7.dropna()\n",
    "Inde_var4=Model7.loc[:,['Gender_Female','Gender_Male','Gender_Couple','Channel_Boutique','Channel_Web','Channel_CC',\n",
    "                        'Calls','Clienteling','Livechat','Wishlist','Turnover','intercept']]\n",
    "#fit the logit model\n",
    "logit7=sm.Logit(Model7['repurchase_exact4'],Inde_var4)\n",
    "result7=logit7.fit()\n",
    "print(result7.summary())"
   ]
  },
  {
   "cell_type": "markdown",
   "metadata": {},
   "source": [
    "## Client Level Logit model with occasions"
   ]
  },
  {
   "cell_type": "code",
   "execution_count": 52,
   "metadata": {},
   "outputs": [
    {
     "name": "stdout",
     "output_type": "stream",
     "text": [
      "Optimization terminated successfully.\n",
      "         Current function value: 0.124845\n",
      "         Iterations 8\n",
      "                           Logit Regression Results                           \n",
      "==============================================================================\n",
      "Dep. Variable:      repurchase_exact4   No. Observations:                28620\n",
      "Model:                          Logit   Df Residuals:                    28606\n",
      "Method:                           MLE   Df Model:                           13\n",
      "Date:                Fri, 06 Jan 2023   Pseudo R-squ.:                0.001735\n",
      "Time:                        16:12:17   Log-Likelihood:                -3573.1\n",
      "converged:                       True   LL-Null:                       -3579.3\n",
      "Covariance Type:            nonrobust   LLR p-value:                    0.4937\n",
      "=====================================================================================\n",
      "                        coef    std err          z      P>|z|      [0.025      0.975]\n",
      "-------------------------------------------------------------------------------------\n",
      "Gender_Female         0.1854      0.297      0.624      0.532      -0.397       0.768\n",
      "Gender_Male           0.2300      0.299      0.769      0.442      -0.356       0.816\n",
      "Gender_Couple         0.2128      0.316      0.674      0.500      -0.406       0.831\n",
      "Channel_Boutique      0.2808      0.315      0.891      0.373      -0.337       0.899\n",
      "Channel_Web           0.0674      0.155      0.435      0.664      -0.236       0.371\n",
      "Channel_CC            0.1534      0.219      0.700      0.484      -0.276       0.583\n",
      "Calls                 0.0212      0.168      0.126      0.899      -0.308       0.350\n",
      "Clienteling           0.1100      0.077      1.425      0.154      -0.041       0.261\n",
      "Livechat              1.0077      0.608      1.659      0.097      -0.183       2.198\n",
      "Wishlist             -0.3476      0.216     -1.612      0.107      -0.770       0.075\n",
      "Turnover          -4.185e-07   1.23e-06     -0.339      0.734   -2.84e-06       2e-06\n",
      "intercept            -4.1813      0.430     -9.728      0.000      -5.024      -3.339\n",
      "Wedding_Occasion      0.0542      0.074      0.736      0.461      -0.090       0.198\n",
      "Birthday_Occasion     0.1023      0.074      1.378      0.168      -0.043       0.248\n",
      "=====================================================================================\n"
     ]
    }
   ],
   "source": [
    "Model6=df_AllSalesClient[['repurchase_exact4','Gender_Female','Gender_Male','Gender_Couple','Channel_Boutique','Channel_Web',\n",
    "                    'Channel_CC','Calls','Livechat','Clienteling','Wishlist','Turnover','intercept','Birthday_Occasion',\n",
    "                    'PersonBirthDate','Wedding_Occasion', 'WeddingDate','nb_days_since_last_sale']]\n",
    "\n",
    "#Since there are too many missing values in wedding date and birth date, we build up two models,\n",
    "#one with them and one without.\n",
    "#extract Indepedent variables into a dataframe for the model without wedding date\n",
    "Model6=Model6.dropna()\n",
    "Inde_var4=Model6.loc[:,['Gender_Female','Gender_Male','Gender_Couple','Channel_Boutique','Channel_Web','Channel_CC',\n",
    "                        'Calls','Clienteling','Livechat','Wishlist','Turnover','intercept','Wedding_Occasion', 'Birthday_Occasion']]\n",
    "#fit the logit model\n",
    "logit6=sm.Logit(Model6['repurchase_exact4'],Inde_var4)\n",
    "result6=logit6.fit()\n",
    "print(result6.summary())"
   ]
  },
  {
   "cell_type": "markdown",
   "metadata": {},
   "source": [
    "## Descriptive statistics to give overall portrait"
   ]
  },
  {
   "cell_type": "code",
   "execution_count": 58,
   "metadata": {},
   "outputs": [
    {
     "data": {
      "text/plain": [
       "repurchase_exact4  Wedding_Occasion\n",
       "0                  0                   1527527\n",
       "                   1                     29159\n",
       "1                  0                     12697\n",
       "                   1                       317\n",
       "Name: ClientID, dtype: int64"
      ]
     },
     "execution_count": 58,
     "metadata": {},
     "output_type": "execute_result"
    }
   ],
   "source": [
    "df_AllSales.groupby(['repurchase_exact4','Wedding_Occasion'])['ClientID'].count()"
   ]
  },
  {
   "cell_type": "code",
   "execution_count": 67,
   "metadata": {},
   "outputs": [
    {
     "data": {
      "text/plain": [
       "repurchase_exact4  Wedding_Occasion\n",
       "0                  0                   1522089\n",
       "                   1                     29045\n",
       "1                  0                     12668\n",
       "                   1                       316\n",
       "Name: InvoiceHeader, dtype: int64"
      ]
     },
     "execution_count": 67,
     "metadata": {},
     "output_type": "execute_result"
    }
   ],
   "source": [
    "df_AllSales.groupby(['repurchase_exact4','Wedding_Occasion'])['InvoiceHeader'].count()"
   ]
  },
  {
   "cell_type": "code",
   "execution_count": 59,
   "metadata": {},
   "outputs": [
    {
     "data": {
      "text/plain": [
       "repurchase_long  Wedding_Occasion\n",
       "0                0                   1433915\n",
       "                 1                     27391\n",
       "1                0                    106309\n",
       "                 1                      2085\n",
       "Name: ClientID, dtype: int64"
      ]
     },
     "execution_count": 59,
     "metadata": {},
     "output_type": "execute_result"
    }
   ],
   "source": [
    "df_AllSales.groupby(['repurchase_long','Wedding_Occasion'])['ClientID'].count()"
   ]
  },
  {
   "cell_type": "code",
   "execution_count": 60,
   "metadata": {},
   "outputs": [
    {
     "data": {
      "text/plain": [
       "repurchase_exact4  Birthday_Occasion\n",
       "0                  0                    1364771\n",
       "                   1                     191915\n",
       "1                  0                      11096\n",
       "                   1                       1918\n",
       "Name: ClientID, dtype: int64"
      ]
     },
     "execution_count": 60,
     "metadata": {},
     "output_type": "execute_result"
    }
   ],
   "source": [
    "df_AllSales.groupby(['repurchase_exact4','Birthday_Occasion'])['ClientID'].count()"
   ]
  },
  {
   "cell_type": "code",
   "execution_count": 61,
   "metadata": {},
   "outputs": [
    {
     "data": {
      "text/plain": [
       "repurchase_long  Wedding_Occasion\n",
       "0                0                   1433915\n",
       "                 1                     27391\n",
       "1                0                    106309\n",
       "                 1                      2085\n",
       "Name: ClientID, dtype: int64"
      ]
     },
     "execution_count": 61,
     "metadata": {},
     "output_type": "execute_result"
    }
   ],
   "source": [
    "df_AllSales.groupby(['repurchase_long','Wedding_Occasion'])['ClientID'].count()"
   ]
  },
  {
   "cell_type": "code",
   "execution_count": null,
   "metadata": {},
   "outputs": [],
   "source": [
    "df_AllSales.groupby(['repurchase_exact4','Wedding_Occasion'])['ClientID'].count()"
   ]
  },
  {
   "cell_type": "code",
   "execution_count": 65,
   "metadata": {},
   "outputs": [],
   "source": [
    "#df_AllSales['repurchase_exact4'].hist(by=df_AllSales['Wedding_Occasion'])"
   ]
  },
  {
   "cell_type": "code",
   "execution_count": 66,
   "metadata": {},
   "outputs": [
    {
     "data": {
      "text/plain": [
       "repurchase_exact4  Gender \n",
       "0                  Couple     102477\n",
       "                   Female     804203\n",
       "                   Male       621557\n",
       "                   Unknown     26641\n",
       "1                  Couple        871\n",
       "                   Female       6832\n",
       "                   Male         5103\n",
       "                   Unknown       203\n",
       "Name: ClientID, dtype: int64"
      ]
     },
     "execution_count": 66,
     "metadata": {},
     "output_type": "execute_result"
    }
   ],
   "source": [
    "df_AllSales.groupby(['repurchase_exact4','Gender'])['ClientID'].count()"
   ]
  },
  {
   "cell_type": "code",
   "execution_count": null,
   "metadata": {},
   "outputs": [],
   "source": []
  }
 ],
 "metadata": {
  "kernelspec": {
   "display_name": "Python 3",
   "language": "python",
   "name": "python3"
  },
  "language_info": {
   "codemirror_mode": {
    "name": "ipython",
    "version": 3
   },
   "file_extension": ".py",
   "mimetype": "text/x-python",
   "name": "python",
   "nbconvert_exporter": "python",
   "pygments_lexer": "ipython3",
   "version": "3.8.5"
  }
 },
 "nbformat": 4,
 "nbformat_minor": 4
}
